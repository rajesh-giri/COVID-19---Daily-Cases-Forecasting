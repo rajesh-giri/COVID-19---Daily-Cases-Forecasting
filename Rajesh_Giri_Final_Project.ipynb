{
 "cells": [
  {
   "cell_type": "markdown",
   "metadata": {},
   "source": [
    "# Time Series Forecasting: Daily Covid Cases in the US"
   ]
  },
  {
   "cell_type": "markdown",
   "metadata": {},
   "source": [
    "## Data Description"
   ]
  },
  {
   "cell_type": "markdown",
   "metadata": {},
   "source": [
    "The given data consists of daily new Covid cases in United States from January 2020 to January 2022. The data has been sourced from https://ourworldindata.org/covid-cases. The number of new COVID-19 cases in the country continues to report soaring rates of new infections due to the rapid spread of the highly transmissible omicron variant. This projects aims to forecast the number of new cases going ahead in 2022 and also try to determine when will this new wave due to the omicron variant come to an end. The reason for choosing this dataset is that Covid is something that has become a part of everone's life and people have questions regarding how long this pandemic is going to last. The variations in the data is due to the multiplicative factor by which the virus continues to spread. This can lead to an exponential pattern in which the virus is spreading and can be forecasted well using time series forecasting methods."
   ]
  },
  {
   "cell_type": "markdown",
   "metadata": {},
   "source": [
    "## Data Importing and Preprocessing"
   ]
  },
  {
   "cell_type": "code",
   "execution_count": 1,
   "metadata": {},
   "outputs": [],
   "source": [
    "#importing libraries\n",
    "import warnings\n",
    "import pandas as pd\n",
    "import numpy as np\n",
    "import matplotlib.pyplot as plt\n",
    "import seaborn as sns\n",
    "warnings.filterwarnings(\"ignore\")"
   ]
  },
  {
   "cell_type": "code",
   "execution_count": 2,
   "metadata": {},
   "outputs": [],
   "source": [
    "df = pd.read_csv('/Users/rajesh/downloads/covid.csv')"
   ]
  },
  {
   "cell_type": "code",
   "execution_count": 3,
   "metadata": {},
   "outputs": [
    {
     "data": {
      "text/html": [
       "<div>\n",
       "<style scoped>\n",
       "    .dataframe tbody tr th:only-of-type {\n",
       "        vertical-align: middle;\n",
       "    }\n",
       "\n",
       "    .dataframe tbody tr th {\n",
       "        vertical-align: top;\n",
       "    }\n",
       "\n",
       "    .dataframe thead th {\n",
       "        text-align: right;\n",
       "    }\n",
       "</style>\n",
       "<table border=\"1\" class=\"dataframe\">\n",
       "  <thead>\n",
       "    <tr style=\"text-align: right;\">\n",
       "      <th></th>\n",
       "      <th>iso_code</th>\n",
       "      <th>location</th>\n",
       "      <th>date</th>\n",
       "      <th>total_cases</th>\n",
       "      <th>new_cases</th>\n",
       "      <th>new_cases_smoothed</th>\n",
       "      <th>total_deaths</th>\n",
       "      <th>new_deaths</th>\n",
       "      <th>new_deaths_smoothed</th>\n",
       "      <th>total_cases_per_million</th>\n",
       "      <th>...</th>\n",
       "      <th>aged_70_older</th>\n",
       "      <th>gdp_per_capita</th>\n",
       "      <th>cardiovasc_death_rate</th>\n",
       "      <th>diabetes_prevalence</th>\n",
       "      <th>female_smokers</th>\n",
       "      <th>male_smokers</th>\n",
       "      <th>handwashing_facilities</th>\n",
       "      <th>hospital_beds_per_thousand</th>\n",
       "      <th>life_expectancy</th>\n",
       "      <th>human_development_index</th>\n",
       "    </tr>\n",
       "  </thead>\n",
       "  <tbody>\n",
       "    <tr>\n",
       "      <th>0</th>\n",
       "      <td>USA</td>\n",
       "      <td>United States</td>\n",
       "      <td>2020-01-22</td>\n",
       "      <td>1</td>\n",
       "      <td>NaN</td>\n",
       "      <td>NaN</td>\n",
       "      <td>NaN</td>\n",
       "      <td>NaN</td>\n",
       "      <td>NaN</td>\n",
       "      <td>0.003</td>\n",
       "      <td>...</td>\n",
       "      <td>9.732</td>\n",
       "      <td>54225.446</td>\n",
       "      <td>151.089</td>\n",
       "      <td>10.79</td>\n",
       "      <td>19.1</td>\n",
       "      <td>24.6</td>\n",
       "      <td>NaN</td>\n",
       "      <td>2.77</td>\n",
       "      <td>78.86</td>\n",
       "      <td>0.926</td>\n",
       "    </tr>\n",
       "    <tr>\n",
       "      <th>1</th>\n",
       "      <td>USA</td>\n",
       "      <td>United States</td>\n",
       "      <td>2020-01-23</td>\n",
       "      <td>1</td>\n",
       "      <td>0.0</td>\n",
       "      <td>NaN</td>\n",
       "      <td>NaN</td>\n",
       "      <td>NaN</td>\n",
       "      <td>NaN</td>\n",
       "      <td>0.003</td>\n",
       "      <td>...</td>\n",
       "      <td>9.732</td>\n",
       "      <td>54225.446</td>\n",
       "      <td>151.089</td>\n",
       "      <td>10.79</td>\n",
       "      <td>19.1</td>\n",
       "      <td>24.6</td>\n",
       "      <td>NaN</td>\n",
       "      <td>2.77</td>\n",
       "      <td>78.86</td>\n",
       "      <td>0.926</td>\n",
       "    </tr>\n",
       "    <tr>\n",
       "      <th>2</th>\n",
       "      <td>USA</td>\n",
       "      <td>United States</td>\n",
       "      <td>2020-01-24</td>\n",
       "      <td>2</td>\n",
       "      <td>1.0</td>\n",
       "      <td>NaN</td>\n",
       "      <td>NaN</td>\n",
       "      <td>NaN</td>\n",
       "      <td>NaN</td>\n",
       "      <td>0.006</td>\n",
       "      <td>...</td>\n",
       "      <td>9.732</td>\n",
       "      <td>54225.446</td>\n",
       "      <td>151.089</td>\n",
       "      <td>10.79</td>\n",
       "      <td>19.1</td>\n",
       "      <td>24.6</td>\n",
       "      <td>NaN</td>\n",
       "      <td>2.77</td>\n",
       "      <td>78.86</td>\n",
       "      <td>0.926</td>\n",
       "    </tr>\n",
       "    <tr>\n",
       "      <th>3</th>\n",
       "      <td>USA</td>\n",
       "      <td>United States</td>\n",
       "      <td>2020-01-25</td>\n",
       "      <td>2</td>\n",
       "      <td>0.0</td>\n",
       "      <td>NaN</td>\n",
       "      <td>NaN</td>\n",
       "      <td>NaN</td>\n",
       "      <td>NaN</td>\n",
       "      <td>0.006</td>\n",
       "      <td>...</td>\n",
       "      <td>9.732</td>\n",
       "      <td>54225.446</td>\n",
       "      <td>151.089</td>\n",
       "      <td>10.79</td>\n",
       "      <td>19.1</td>\n",
       "      <td>24.6</td>\n",
       "      <td>NaN</td>\n",
       "      <td>2.77</td>\n",
       "      <td>78.86</td>\n",
       "      <td>0.926</td>\n",
       "    </tr>\n",
       "    <tr>\n",
       "      <th>4</th>\n",
       "      <td>USA</td>\n",
       "      <td>United States</td>\n",
       "      <td>2020-01-26</td>\n",
       "      <td>5</td>\n",
       "      <td>3.0</td>\n",
       "      <td>NaN</td>\n",
       "      <td>NaN</td>\n",
       "      <td>NaN</td>\n",
       "      <td>NaN</td>\n",
       "      <td>0.015</td>\n",
       "      <td>...</td>\n",
       "      <td>9.732</td>\n",
       "      <td>54225.446</td>\n",
       "      <td>151.089</td>\n",
       "      <td>10.79</td>\n",
       "      <td>19.1</td>\n",
       "      <td>24.6</td>\n",
       "      <td>NaN</td>\n",
       "      <td>2.77</td>\n",
       "      <td>78.86</td>\n",
       "      <td>0.926</td>\n",
       "    </tr>\n",
       "  </tbody>\n",
       "</table>\n",
       "<p>5 rows × 26 columns</p>\n",
       "</div>"
      ],
      "text/plain": [
       "  iso_code       location        date  total_cases  new_cases  \\\n",
       "0      USA  United States  2020-01-22            1        NaN   \n",
       "1      USA  United States  2020-01-23            1        0.0   \n",
       "2      USA  United States  2020-01-24            2        1.0   \n",
       "3      USA  United States  2020-01-25            2        0.0   \n",
       "4      USA  United States  2020-01-26            5        3.0   \n",
       "\n",
       "   new_cases_smoothed  total_deaths  new_deaths  new_deaths_smoothed  \\\n",
       "0                 NaN           NaN         NaN                  NaN   \n",
       "1                 NaN           NaN         NaN                  NaN   \n",
       "2                 NaN           NaN         NaN                  NaN   \n",
       "3                 NaN           NaN         NaN                  NaN   \n",
       "4                 NaN           NaN         NaN                  NaN   \n",
       "\n",
       "   total_cases_per_million  ...  aged_70_older  gdp_per_capita  \\\n",
       "0                    0.003  ...          9.732       54225.446   \n",
       "1                    0.003  ...          9.732       54225.446   \n",
       "2                    0.006  ...          9.732       54225.446   \n",
       "3                    0.006  ...          9.732       54225.446   \n",
       "4                    0.015  ...          9.732       54225.446   \n",
       "\n",
       "   cardiovasc_death_rate  diabetes_prevalence  female_smokers  male_smokers  \\\n",
       "0                151.089                10.79            19.1          24.6   \n",
       "1                151.089                10.79            19.1          24.6   \n",
       "2                151.089                10.79            19.1          24.6   \n",
       "3                151.089                10.79            19.1          24.6   \n",
       "4                151.089                10.79            19.1          24.6   \n",
       "\n",
       "   handwashing_facilities  hospital_beds_per_thousand  life_expectancy  \\\n",
       "0                     NaN                        2.77            78.86   \n",
       "1                     NaN                        2.77            78.86   \n",
       "2                     NaN                        2.77            78.86   \n",
       "3                     NaN                        2.77            78.86   \n",
       "4                     NaN                        2.77            78.86   \n",
       "\n",
       "   human_development_index  \n",
       "0                    0.926  \n",
       "1                    0.926  \n",
       "2                    0.926  \n",
       "3                    0.926  \n",
       "4                    0.926  \n",
       "\n",
       "[5 rows x 26 columns]"
      ]
     },
     "execution_count": 3,
     "metadata": {},
     "output_type": "execute_result"
    }
   ],
   "source": [
    "df.head()"
   ]
  },
  {
   "cell_type": "markdown",
   "metadata": {},
   "source": [
    "The above data shows total cases and daily new cases for the United States on a daily basis starting January 22, 2020. Here, new cases for the first day is NaN, we need to replace it with 1."
   ]
  },
  {
   "cell_type": "code",
   "execution_count": 4,
   "metadata": {},
   "outputs": [
    {
     "data": {
      "text/html": [
       "<div>\n",
       "<style scoped>\n",
       "    .dataframe tbody tr th:only-of-type {\n",
       "        vertical-align: middle;\n",
       "    }\n",
       "\n",
       "    .dataframe tbody tr th {\n",
       "        vertical-align: top;\n",
       "    }\n",
       "\n",
       "    .dataframe thead th {\n",
       "        text-align: right;\n",
       "    }\n",
       "</style>\n",
       "<table border=\"1\" class=\"dataframe\">\n",
       "  <thead>\n",
       "    <tr style=\"text-align: right;\">\n",
       "      <th></th>\n",
       "      <th>iso_code</th>\n",
       "      <th>location</th>\n",
       "      <th>date</th>\n",
       "      <th>total_cases</th>\n",
       "      <th>new_cases</th>\n",
       "      <th>new_cases_smoothed</th>\n",
       "      <th>total_deaths</th>\n",
       "      <th>new_deaths</th>\n",
       "      <th>new_deaths_smoothed</th>\n",
       "      <th>total_cases_per_million</th>\n",
       "      <th>...</th>\n",
       "      <th>aged_70_older</th>\n",
       "      <th>gdp_per_capita</th>\n",
       "      <th>cardiovasc_death_rate</th>\n",
       "      <th>diabetes_prevalence</th>\n",
       "      <th>female_smokers</th>\n",
       "      <th>male_smokers</th>\n",
       "      <th>handwashing_facilities</th>\n",
       "      <th>hospital_beds_per_thousand</th>\n",
       "      <th>life_expectancy</th>\n",
       "      <th>human_development_index</th>\n",
       "    </tr>\n",
       "  </thead>\n",
       "  <tbody>\n",
       "    <tr>\n",
       "      <th>0</th>\n",
       "      <td>USA</td>\n",
       "      <td>United States</td>\n",
       "      <td>2020-01-22</td>\n",
       "      <td>1</td>\n",
       "      <td>1.0</td>\n",
       "      <td>NaN</td>\n",
       "      <td>NaN</td>\n",
       "      <td>NaN</td>\n",
       "      <td>NaN</td>\n",
       "      <td>0.003</td>\n",
       "      <td>...</td>\n",
       "      <td>9.732</td>\n",
       "      <td>54225.446</td>\n",
       "      <td>151.089</td>\n",
       "      <td>10.79</td>\n",
       "      <td>19.1</td>\n",
       "      <td>24.6</td>\n",
       "      <td>NaN</td>\n",
       "      <td>2.77</td>\n",
       "      <td>78.86</td>\n",
       "      <td>0.926</td>\n",
       "    </tr>\n",
       "    <tr>\n",
       "      <th>1</th>\n",
       "      <td>USA</td>\n",
       "      <td>United States</td>\n",
       "      <td>2020-01-23</td>\n",
       "      <td>1</td>\n",
       "      <td>0.0</td>\n",
       "      <td>NaN</td>\n",
       "      <td>NaN</td>\n",
       "      <td>NaN</td>\n",
       "      <td>NaN</td>\n",
       "      <td>0.003</td>\n",
       "      <td>...</td>\n",
       "      <td>9.732</td>\n",
       "      <td>54225.446</td>\n",
       "      <td>151.089</td>\n",
       "      <td>10.79</td>\n",
       "      <td>19.1</td>\n",
       "      <td>24.6</td>\n",
       "      <td>NaN</td>\n",
       "      <td>2.77</td>\n",
       "      <td>78.86</td>\n",
       "      <td>0.926</td>\n",
       "    </tr>\n",
       "    <tr>\n",
       "      <th>2</th>\n",
       "      <td>USA</td>\n",
       "      <td>United States</td>\n",
       "      <td>2020-01-24</td>\n",
       "      <td>2</td>\n",
       "      <td>1.0</td>\n",
       "      <td>NaN</td>\n",
       "      <td>NaN</td>\n",
       "      <td>NaN</td>\n",
       "      <td>NaN</td>\n",
       "      <td>0.006</td>\n",
       "      <td>...</td>\n",
       "      <td>9.732</td>\n",
       "      <td>54225.446</td>\n",
       "      <td>151.089</td>\n",
       "      <td>10.79</td>\n",
       "      <td>19.1</td>\n",
       "      <td>24.6</td>\n",
       "      <td>NaN</td>\n",
       "      <td>2.77</td>\n",
       "      <td>78.86</td>\n",
       "      <td>0.926</td>\n",
       "    </tr>\n",
       "    <tr>\n",
       "      <th>3</th>\n",
       "      <td>USA</td>\n",
       "      <td>United States</td>\n",
       "      <td>2020-01-25</td>\n",
       "      <td>2</td>\n",
       "      <td>0.0</td>\n",
       "      <td>NaN</td>\n",
       "      <td>NaN</td>\n",
       "      <td>NaN</td>\n",
       "      <td>NaN</td>\n",
       "      <td>0.006</td>\n",
       "      <td>...</td>\n",
       "      <td>9.732</td>\n",
       "      <td>54225.446</td>\n",
       "      <td>151.089</td>\n",
       "      <td>10.79</td>\n",
       "      <td>19.1</td>\n",
       "      <td>24.6</td>\n",
       "      <td>NaN</td>\n",
       "      <td>2.77</td>\n",
       "      <td>78.86</td>\n",
       "      <td>0.926</td>\n",
       "    </tr>\n",
       "    <tr>\n",
       "      <th>4</th>\n",
       "      <td>USA</td>\n",
       "      <td>United States</td>\n",
       "      <td>2020-01-26</td>\n",
       "      <td>5</td>\n",
       "      <td>3.0</td>\n",
       "      <td>NaN</td>\n",
       "      <td>NaN</td>\n",
       "      <td>NaN</td>\n",
       "      <td>NaN</td>\n",
       "      <td>0.015</td>\n",
       "      <td>...</td>\n",
       "      <td>9.732</td>\n",
       "      <td>54225.446</td>\n",
       "      <td>151.089</td>\n",
       "      <td>10.79</td>\n",
       "      <td>19.1</td>\n",
       "      <td>24.6</td>\n",
       "      <td>NaN</td>\n",
       "      <td>2.77</td>\n",
       "      <td>78.86</td>\n",
       "      <td>0.926</td>\n",
       "    </tr>\n",
       "  </tbody>\n",
       "</table>\n",
       "<p>5 rows × 26 columns</p>\n",
       "</div>"
      ],
      "text/plain": [
       "  iso_code       location        date  total_cases  new_cases  \\\n",
       "0      USA  United States  2020-01-22            1        1.0   \n",
       "1      USA  United States  2020-01-23            1        0.0   \n",
       "2      USA  United States  2020-01-24            2        1.0   \n",
       "3      USA  United States  2020-01-25            2        0.0   \n",
       "4      USA  United States  2020-01-26            5        3.0   \n",
       "\n",
       "   new_cases_smoothed  total_deaths  new_deaths  new_deaths_smoothed  \\\n",
       "0                 NaN           NaN         NaN                  NaN   \n",
       "1                 NaN           NaN         NaN                  NaN   \n",
       "2                 NaN           NaN         NaN                  NaN   \n",
       "3                 NaN           NaN         NaN                  NaN   \n",
       "4                 NaN           NaN         NaN                  NaN   \n",
       "\n",
       "   total_cases_per_million  ...  aged_70_older  gdp_per_capita  \\\n",
       "0                    0.003  ...          9.732       54225.446   \n",
       "1                    0.003  ...          9.732       54225.446   \n",
       "2                    0.006  ...          9.732       54225.446   \n",
       "3                    0.006  ...          9.732       54225.446   \n",
       "4                    0.015  ...          9.732       54225.446   \n",
       "\n",
       "   cardiovasc_death_rate  diabetes_prevalence  female_smokers  male_smokers  \\\n",
       "0                151.089                10.79            19.1          24.6   \n",
       "1                151.089                10.79            19.1          24.6   \n",
       "2                151.089                10.79            19.1          24.6   \n",
       "3                151.089                10.79            19.1          24.6   \n",
       "4                151.089                10.79            19.1          24.6   \n",
       "\n",
       "   handwashing_facilities  hospital_beds_per_thousand  life_expectancy  \\\n",
       "0                     NaN                        2.77            78.86   \n",
       "1                     NaN                        2.77            78.86   \n",
       "2                     NaN                        2.77            78.86   \n",
       "3                     NaN                        2.77            78.86   \n",
       "4                     NaN                        2.77            78.86   \n",
       "\n",
       "   human_development_index  \n",
       "0                    0.926  \n",
       "1                    0.926  \n",
       "2                    0.926  \n",
       "3                    0.926  \n",
       "4                    0.926  \n",
       "\n",
       "[5 rows x 26 columns]"
      ]
     },
     "execution_count": 4,
     "metadata": {},
     "output_type": "execute_result"
    }
   ],
   "source": [
    "# Replacing new cases for the first day\n",
    "df['new_cases'][0] = 1\n",
    "df.head()"
   ]
  },
  {
   "cell_type": "code",
   "execution_count": 5,
   "metadata": {},
   "outputs": [
    {
     "data": {
      "text/plain": [
       "iso_code                            0\n",
       "location                            0\n",
       "date                                0\n",
       "total_cases                         0\n",
       "new_cases                           0\n",
       "new_cases_smoothed                  6\n",
       "total_deaths                       38\n",
       "new_deaths                         38\n",
       "new_deaths_smoothed                38\n",
       "total_cases_per_million             0\n",
       "new_cases_per_million               1\n",
       "new_cases_smoothed_per_million      6\n",
       "stringency_index                    2\n",
       "population                          0\n",
       "population_density                  0\n",
       "median_age                          0\n",
       "aged_70_older                       0\n",
       "gdp_per_capita                      0\n",
       "cardiovasc_death_rate               0\n",
       "diabetes_prevalence                 0\n",
       "female_smokers                      0\n",
       "male_smokers                        0\n",
       "handwashing_facilities            744\n",
       "hospital_beds_per_thousand          0\n",
       "life_expectancy                     0\n",
       "human_development_index             0\n",
       "dtype: int64"
      ]
     },
     "execution_count": 5,
     "metadata": {},
     "output_type": "execute_result"
    }
   ],
   "source": [
    "#Checking for null values in the data\n",
    "df.isnull().sum()"
   ]
  },
  {
   "cell_type": "markdown",
   "metadata": {},
   "source": [
    "The data is clean and has no null values. Since the data is only for United States, we can drop the location column."
   ]
  },
  {
   "cell_type": "code",
   "execution_count": 6,
   "metadata": {},
   "outputs": [],
   "source": [
    "#dropping location\n",
    "df = df.drop('location',axis=1)"
   ]
  },
  {
   "cell_type": "code",
   "execution_count": 7,
   "metadata": {},
   "outputs": [
    {
     "name": "stdout",
     "output_type": "stream",
     "text": [
      "<class 'pandas.core.frame.DataFrame'>\n",
      "RangeIndex: 744 entries, 0 to 743\n",
      "Data columns (total 25 columns):\n",
      "iso_code                          744 non-null object\n",
      "date                              744 non-null object\n",
      "total_cases                       744 non-null int64\n",
      "new_cases                         744 non-null float64\n",
      "new_cases_smoothed                738 non-null float64\n",
      "total_deaths                      706 non-null float64\n",
      "new_deaths                        706 non-null float64\n",
      "new_deaths_smoothed               706 non-null float64\n",
      "total_cases_per_million           744 non-null float64\n",
      "new_cases_per_million             743 non-null float64\n",
      "new_cases_smoothed_per_million    738 non-null float64\n",
      "stringency_index                  742 non-null float64\n",
      "population                        744 non-null int64\n",
      "population_density                744 non-null float64\n",
      "median_age                        744 non-null float64\n",
      "aged_70_older                     744 non-null float64\n",
      "gdp_per_capita                    744 non-null float64\n",
      "cardiovasc_death_rate             744 non-null float64\n",
      "diabetes_prevalence               744 non-null float64\n",
      "female_smokers                    744 non-null float64\n",
      "male_smokers                      744 non-null float64\n",
      "handwashing_facilities            0 non-null float64\n",
      "hospital_beds_per_thousand        744 non-null float64\n",
      "life_expectancy                   744 non-null float64\n",
      "human_development_index           744 non-null float64\n",
      "dtypes: float64(21), int64(2), object(2)\n",
      "memory usage: 145.4+ KB\n"
     ]
    }
   ],
   "source": [
    "#Checking for data type of each column\n",
    "df.info()"
   ]
  },
  {
   "cell_type": "markdown",
   "metadata": {},
   "source": [
    "We would need to change the data type of date and new cases."
   ]
  },
  {
   "cell_type": "code",
   "execution_count": 8,
   "metadata": {},
   "outputs": [],
   "source": [
    "#changing data types\n",
    "df['date']= pd.to_datetime(df['date'])\n",
    "df['new_cases']=df['new_cases'].astype('int')"
   ]
  },
  {
   "cell_type": "code",
   "execution_count": 9,
   "metadata": {},
   "outputs": [
    {
     "name": "stdout",
     "output_type": "stream",
     "text": [
      "Time period start: 2020-01-22 00:00:00\n",
      "Time period end: 2022-02-03 00:00:00\n"
     ]
    }
   ],
   "source": [
    "print('Time period start: {}\\nTime period end: {}'.format(df.date.min(),df.date.max()))"
   ]
  },
  {
   "cell_type": "markdown",
   "metadata": {},
   "source": [
    "We can see that the data is from 22 January 2020 to February 23 2022."
   ]
  },
  {
   "cell_type": "code",
   "execution_count": 10,
   "metadata": {},
   "outputs": [
    {
     "data": {
      "text/plain": [
       "(744, 25)"
      ]
     },
     "execution_count": 10,
     "metadata": {},
     "output_type": "execute_result"
    }
   ],
   "source": [
    "df.shape"
   ]
  },
  {
   "cell_type": "markdown",
   "metadata": {},
   "source": [
    "There are total 764 days of data"
   ]
  },
  {
   "cell_type": "code",
   "execution_count": 11,
   "metadata": {},
   "outputs": [
    {
     "data": {
      "text/html": [
       "<div>\n",
       "<style scoped>\n",
       "    .dataframe tbody tr th:only-of-type {\n",
       "        vertical-align: middle;\n",
       "    }\n",
       "\n",
       "    .dataframe tbody tr th {\n",
       "        vertical-align: top;\n",
       "    }\n",
       "\n",
       "    .dataframe thead th {\n",
       "        text-align: right;\n",
       "    }\n",
       "</style>\n",
       "<table border=\"1\" class=\"dataframe\">\n",
       "  <thead>\n",
       "    <tr style=\"text-align: right;\">\n",
       "      <th></th>\n",
       "      <th>total_cases</th>\n",
       "      <th>new_cases</th>\n",
       "      <th>new_cases_smoothed</th>\n",
       "      <th>total_deaths</th>\n",
       "      <th>new_deaths</th>\n",
       "      <th>new_deaths_smoothed</th>\n",
       "      <th>total_cases_per_million</th>\n",
       "      <th>new_cases_per_million</th>\n",
       "      <th>new_cases_smoothed_per_million</th>\n",
       "      <th>stringency_index</th>\n",
       "      <th>...</th>\n",
       "      <th>aged_70_older</th>\n",
       "      <th>gdp_per_capita</th>\n",
       "      <th>cardiovasc_death_rate</th>\n",
       "      <th>diabetes_prevalence</th>\n",
       "      <th>female_smokers</th>\n",
       "      <th>male_smokers</th>\n",
       "      <th>handwashing_facilities</th>\n",
       "      <th>hospital_beds_per_thousand</th>\n",
       "      <th>life_expectancy</th>\n",
       "      <th>human_development_index</th>\n",
       "    </tr>\n",
       "  </thead>\n",
       "  <tbody>\n",
       "    <tr>\n",
       "      <th>count</th>\n",
       "      <td>7.440000e+02</td>\n",
       "      <td>7.440000e+02</td>\n",
       "      <td>738.000000</td>\n",
       "      <td>706.000000</td>\n",
       "      <td>706.000000</td>\n",
       "      <td>706.000000</td>\n",
       "      <td>744.000000</td>\n",
       "      <td>743.000000</td>\n",
       "      <td>738.000000</td>\n",
       "      <td>742.000000</td>\n",
       "      <td>...</td>\n",
       "      <td>7.440000e+02</td>\n",
       "      <td>7.440000e+02</td>\n",
       "      <td>7.440000e+02</td>\n",
       "      <td>7.440000e+02</td>\n",
       "      <td>7.440000e+02</td>\n",
       "      <td>7.440000e+02</td>\n",
       "      <td>0.0</td>\n",
       "      <td>7.440000e+02</td>\n",
       "      <td>7.440000e+02</td>\n",
       "      <td>7.440000e+02</td>\n",
       "    </tr>\n",
       "    <tr>\n",
       "      <th>mean</th>\n",
       "      <td>2.319419e+07</td>\n",
       "      <td>1.021005e+05</td>\n",
       "      <td>101561.209238</td>\n",
       "      <td>425723.453258</td>\n",
       "      <td>1269.910765</td>\n",
       "      <td>1258.856516</td>\n",
       "      <td>69669.987590</td>\n",
       "      <td>307.099001</td>\n",
       "      <td>305.066419</td>\n",
       "      <td>57.997601</td>\n",
       "      <td>...</td>\n",
       "      <td>9.732000e+00</td>\n",
       "      <td>5.422545e+04</td>\n",
       "      <td>1.510890e+02</td>\n",
       "      <td>1.079000e+01</td>\n",
       "      <td>1.910000e+01</td>\n",
       "      <td>2.460000e+01</td>\n",
       "      <td>NaN</td>\n",
       "      <td>2.770000e+00</td>\n",
       "      <td>7.886000e+01</td>\n",
       "      <td>9.260000e-01</td>\n",
       "    </tr>\n",
       "    <tr>\n",
       "      <th>std</th>\n",
       "      <td>1.926551e+07</td>\n",
       "      <td>1.494797e+05</td>\n",
       "      <td>136232.296197</td>\n",
       "      <td>265082.453598</td>\n",
       "      <td>966.774529</td>\n",
       "      <td>783.976330</td>\n",
       "      <td>57869.132077</td>\n",
       "      <td>449.163618</td>\n",
       "      <td>409.210351</td>\n",
       "      <td>16.323806</td>\n",
       "      <td>...</td>\n",
       "      <td>2.666328e-14</td>\n",
       "      <td>4.368511e-11</td>\n",
       "      <td>2.986287e-12</td>\n",
       "      <td>3.199593e-14</td>\n",
       "      <td>2.381919e-13</td>\n",
       "      <td>7.821228e-14</td>\n",
       "      <td>NaN</td>\n",
       "      <td>1.510919e-14</td>\n",
       "      <td>4.692737e-13</td>\n",
       "      <td>4.888268e-15</td>\n",
       "    </tr>\n",
       "    <tr>\n",
       "      <th>min</th>\n",
       "      <td>1.000000e+00</td>\n",
       "      <td>0.000000e+00</td>\n",
       "      <td>0.000000</td>\n",
       "      <td>1.000000</td>\n",
       "      <td>0.000000</td>\n",
       "      <td>0.143000</td>\n",
       "      <td>0.003000</td>\n",
       "      <td>0.000000</td>\n",
       "      <td>0.000000</td>\n",
       "      <td>0.000000</td>\n",
       "      <td>...</td>\n",
       "      <td>9.732000e+00</td>\n",
       "      <td>5.422545e+04</td>\n",
       "      <td>1.510890e+02</td>\n",
       "      <td>1.079000e+01</td>\n",
       "      <td>1.910000e+01</td>\n",
       "      <td>2.460000e+01</td>\n",
       "      <td>NaN</td>\n",
       "      <td>2.770000e+00</td>\n",
       "      <td>7.886000e+01</td>\n",
       "      <td>9.260000e-01</td>\n",
       "    </tr>\n",
       "    <tr>\n",
       "      <th>25%</th>\n",
       "      <td>4.207094e+06</td>\n",
       "      <td>2.749950e+04</td>\n",
       "      <td>28581.786000</td>\n",
       "      <td>176657.500000</td>\n",
       "      <td>522.000000</td>\n",
       "      <td>716.106750</td>\n",
       "      <td>12637.138750</td>\n",
       "      <td>82.695500</td>\n",
       "      <td>85.853000</td>\n",
       "      <td>52.310000</td>\n",
       "      <td>...</td>\n",
       "      <td>9.732000e+00</td>\n",
       "      <td>5.422545e+04</td>\n",
       "      <td>1.510890e+02</td>\n",
       "      <td>1.079000e+01</td>\n",
       "      <td>1.910000e+01</td>\n",
       "      <td>2.460000e+01</td>\n",
       "      <td>NaN</td>\n",
       "      <td>2.770000e+00</td>\n",
       "      <td>7.886000e+01</td>\n",
       "      <td>9.260000e-01</td>\n",
       "    </tr>\n",
       "    <tr>\n",
       "      <th>50%</th>\n",
       "      <td>2.583301e+07</td>\n",
       "      <td>5.544150e+04</td>\n",
       "      <td>62191.000000</td>\n",
       "      <td>488670.000000</td>\n",
       "      <td>1007.500000</td>\n",
       "      <td>1038.785500</td>\n",
       "      <td>77596.382500</td>\n",
       "      <td>166.664000</td>\n",
       "      <td>186.807500</td>\n",
       "      <td>61.570000</td>\n",
       "      <td>...</td>\n",
       "      <td>9.732000e+00</td>\n",
       "      <td>5.422545e+04</td>\n",
       "      <td>1.510890e+02</td>\n",
       "      <td>1.079000e+01</td>\n",
       "      <td>1.910000e+01</td>\n",
       "      <td>2.460000e+01</td>\n",
       "      <td>NaN</td>\n",
       "      <td>2.770000e+00</td>\n",
       "      <td>7.886000e+01</td>\n",
       "      <td>9.260000e-01</td>\n",
       "    </tr>\n",
       "    <tr>\n",
       "      <th>75%</th>\n",
       "      <td>3.516839e+07</td>\n",
       "      <td>1.225528e+05</td>\n",
       "      <td>121768.714500</td>\n",
       "      <td>618621.250000</td>\n",
       "      <td>1832.250000</td>\n",
       "      <td>1728.892750</td>\n",
       "      <td>105637.710750</td>\n",
       "      <td>368.438000</td>\n",
       "      <td>365.765500</td>\n",
       "      <td>68.980000</td>\n",
       "      <td>...</td>\n",
       "      <td>9.732000e+00</td>\n",
       "      <td>5.422545e+04</td>\n",
       "      <td>1.510890e+02</td>\n",
       "      <td>1.079000e+01</td>\n",
       "      <td>1.910000e+01</td>\n",
       "      <td>2.460000e+01</td>\n",
       "      <td>NaN</td>\n",
       "      <td>2.770000e+00</td>\n",
       "      <td>7.886000e+01</td>\n",
       "      <td>9.260000e-01</td>\n",
       "    </tr>\n",
       "    <tr>\n",
       "      <th>max</th>\n",
       "      <td>7.596275e+07</td>\n",
       "      <td>1.368873e+06</td>\n",
       "      <td>802698.857000</td>\n",
       "      <td>896557.000000</td>\n",
       "      <td>4442.000000</td>\n",
       "      <td>3403.000000</td>\n",
       "      <td>228174.555000</td>\n",
       "      <td>4111.778000</td>\n",
       "      <td>2411.122000</td>\n",
       "      <td>75.460000</td>\n",
       "      <td>...</td>\n",
       "      <td>9.732000e+00</td>\n",
       "      <td>5.422545e+04</td>\n",
       "      <td>1.510890e+02</td>\n",
       "      <td>1.079000e+01</td>\n",
       "      <td>1.910000e+01</td>\n",
       "      <td>2.460000e+01</td>\n",
       "      <td>NaN</td>\n",
       "      <td>2.770000e+00</td>\n",
       "      <td>7.886000e+01</td>\n",
       "      <td>9.260000e-01</td>\n",
       "    </tr>\n",
       "  </tbody>\n",
       "</table>\n",
       "<p>8 rows × 23 columns</p>\n",
       "</div>"
      ],
      "text/plain": [
       "        total_cases     new_cases  new_cases_smoothed   total_deaths  \\\n",
       "count  7.440000e+02  7.440000e+02          738.000000     706.000000   \n",
       "mean   2.319419e+07  1.021005e+05       101561.209238  425723.453258   \n",
       "std    1.926551e+07  1.494797e+05       136232.296197  265082.453598   \n",
       "min    1.000000e+00  0.000000e+00            0.000000       1.000000   \n",
       "25%    4.207094e+06  2.749950e+04        28581.786000  176657.500000   \n",
       "50%    2.583301e+07  5.544150e+04        62191.000000  488670.000000   \n",
       "75%    3.516839e+07  1.225528e+05       121768.714500  618621.250000   \n",
       "max    7.596275e+07  1.368873e+06       802698.857000  896557.000000   \n",
       "\n",
       "        new_deaths  new_deaths_smoothed  total_cases_per_million  \\\n",
       "count   706.000000           706.000000               744.000000   \n",
       "mean   1269.910765          1258.856516             69669.987590   \n",
       "std     966.774529           783.976330             57869.132077   \n",
       "min       0.000000             0.143000                 0.003000   \n",
       "25%     522.000000           716.106750             12637.138750   \n",
       "50%    1007.500000          1038.785500             77596.382500   \n",
       "75%    1832.250000          1728.892750            105637.710750   \n",
       "max    4442.000000          3403.000000            228174.555000   \n",
       "\n",
       "       new_cases_per_million  new_cases_smoothed_per_million  \\\n",
       "count             743.000000                      738.000000   \n",
       "mean              307.099001                      305.066419   \n",
       "std               449.163618                      409.210351   \n",
       "min                 0.000000                        0.000000   \n",
       "25%                82.695500                       85.853000   \n",
       "50%               166.664000                      186.807500   \n",
       "75%               368.438000                      365.765500   \n",
       "max              4111.778000                     2411.122000   \n",
       "\n",
       "       stringency_index  ...  aged_70_older  gdp_per_capita  \\\n",
       "count        742.000000  ...   7.440000e+02    7.440000e+02   \n",
       "mean          57.997601  ...   9.732000e+00    5.422545e+04   \n",
       "std           16.323806  ...   2.666328e-14    4.368511e-11   \n",
       "min            0.000000  ...   9.732000e+00    5.422545e+04   \n",
       "25%           52.310000  ...   9.732000e+00    5.422545e+04   \n",
       "50%           61.570000  ...   9.732000e+00    5.422545e+04   \n",
       "75%           68.980000  ...   9.732000e+00    5.422545e+04   \n",
       "max           75.460000  ...   9.732000e+00    5.422545e+04   \n",
       "\n",
       "       cardiovasc_death_rate  diabetes_prevalence  female_smokers  \\\n",
       "count           7.440000e+02         7.440000e+02    7.440000e+02   \n",
       "mean            1.510890e+02         1.079000e+01    1.910000e+01   \n",
       "std             2.986287e-12         3.199593e-14    2.381919e-13   \n",
       "min             1.510890e+02         1.079000e+01    1.910000e+01   \n",
       "25%             1.510890e+02         1.079000e+01    1.910000e+01   \n",
       "50%             1.510890e+02         1.079000e+01    1.910000e+01   \n",
       "75%             1.510890e+02         1.079000e+01    1.910000e+01   \n",
       "max             1.510890e+02         1.079000e+01    1.910000e+01   \n",
       "\n",
       "       male_smokers  handwashing_facilities  hospital_beds_per_thousand  \\\n",
       "count  7.440000e+02                     0.0                7.440000e+02   \n",
       "mean   2.460000e+01                     NaN                2.770000e+00   \n",
       "std    7.821228e-14                     NaN                1.510919e-14   \n",
       "min    2.460000e+01                     NaN                2.770000e+00   \n",
       "25%    2.460000e+01                     NaN                2.770000e+00   \n",
       "50%    2.460000e+01                     NaN                2.770000e+00   \n",
       "75%    2.460000e+01                     NaN                2.770000e+00   \n",
       "max    2.460000e+01                     NaN                2.770000e+00   \n",
       "\n",
       "       life_expectancy  human_development_index  \n",
       "count     7.440000e+02             7.440000e+02  \n",
       "mean      7.886000e+01             9.260000e-01  \n",
       "std       4.692737e-13             4.888268e-15  \n",
       "min       7.886000e+01             9.260000e-01  \n",
       "25%       7.886000e+01             9.260000e-01  \n",
       "50%       7.886000e+01             9.260000e-01  \n",
       "75%       7.886000e+01             9.260000e-01  \n",
       "max       7.886000e+01             9.260000e-01  \n",
       "\n",
       "[8 rows x 23 columns]"
      ]
     },
     "execution_count": 11,
     "metadata": {},
     "output_type": "execute_result"
    }
   ],
   "source": [
    "#Checking for some basic statistics\n",
    "df.describe()"
   ]
  },
  {
   "cell_type": "code",
   "execution_count": 12,
   "metadata": {},
   "outputs": [],
   "source": [
    "#Setting date column as index of the dataframe\n",
    "df = df.set_index('date')"
   ]
  },
  {
   "cell_type": "code",
   "execution_count": 13,
   "metadata": {},
   "outputs": [
    {
     "data": {
      "image/png": "[encoded data removed]",
      "text/plain": [
       "<Figure size 1080x720 with 1 Axes>"
      ]
     },
     "metadata": {
      "needs_background": "light"
     },
     "output_type": "display_data"
    }
   ],
   "source": [
    "plt.figure(figsize=(15,10))\n",
    "plt.xlabel('Date')\n",
    "plt.ylabel('Daily New Cases')\n",
    "plt.title('Fig 1 : Daily New Cases in the US')\n",
    "df['new_cases'].plot()\n",
    "plt.show()"
   ]
  },
  {
   "cell_type": "markdown",
   "metadata": {},
   "source": [
    "We can see that the daily new cases started to increase gradually through 2020 and then went up exponentially around early part of 2021. We saw a third wave of the virus in the third quarter of 2021. Due to the outbreak of the Omicron variant, we saw a big spike in terms of the number of new cases in early 2022."
   ]
  },
  {
   "cell_type": "code",
   "execution_count": 14,
   "metadata": {},
   "outputs": [
    {
     "data": {
      "image/png": "[encoded data removed]",
      "text/plain": [
       "<Figure size 1080x720 with 1 Axes>"
      ]
     },
     "metadata": {
      "needs_background": "light"
     },
     "output_type": "display_data"
    }
   ],
   "source": [
    "plt.figure(figsize=(15,10))\n",
    "sns.boxplot(df.index.month, df['new_cases'])\n",
    "plt.xlabel('Month')\n",
    "plt.title('Fig 2 : Number of new cases by month')\n",
    "plt.show()"
   ]
  },
  {
   "cell_type": "markdown",
   "metadata": {},
   "source": [
    "The above chart shows the distribution of number of daily cases month wise. Since we have almost seen 2 complete years of Covid 19, the box plots are showing aggregation results for each month. Clearly, the month of January has seen the highest number of cases followed by August and September."
   ]
  },
  {
   "cell_type": "code",
   "execution_count": 15,
   "metadata": {},
   "outputs": [
    {
     "data": {
      "image/png": "[encoded data removed]",
      "text/plain": [
       "<Figure size 1080x720 with 1 Axes>"
      ]
     },
     "metadata": {
      "needs_background": "light"
     },
     "output_type": "display_data"
    }
   ],
   "source": [
    "plt.figure(figsize=(15,10))\n",
    "sns.boxplot(df.index.weekday, df['new_cases'])\n",
    "plt.xlabel('Weekday')\n",
    "plt.title('Fig 3 : Number of new cases by weekday')\n",
    "plt.show()"
   ]
  },
  {
   "cell_type": "markdown",
   "metadata": {},
   "source": [
    "Here 0 stands for Monday and 6 represents Sunday. We can observe a weekly seasonality in this time series with Saturdays and Sundays having comparatively lesser new cases as compared to weekdays."
   ]
  },
  {
   "cell_type": "code",
   "execution_count": 16,
   "metadata": {},
   "outputs": [
    {
     "data": {
      "image/png": "[encoded data removed]",
      "text/plain": [
       "<Figure size 720x576 with 1 Axes>"
      ]
     },
     "metadata": {
      "needs_background": "light"
     },
     "output_type": "display_data"
    }
   ],
   "source": [
    "plt.figure(figsize=(10,8))\n",
    "sns.kdeplot(df['new_cases'],shade=True)\n",
    "plt.title('Fig 4 : Density plot of Daily New Cases')\n",
    "plt.xlabel('New Cases')\n",
    "plt.show()"
   ]
  },
  {
   "cell_type": "markdown",
   "metadata": {},
   "source": [
    "The density plot above shows the distribution of the number of cases. We can see that the major frequency lies in the region less than 200k"
   ]
  },
  {
   "cell_type": "markdown",
   "metadata": {},
   "source": [
    "## ARIMA Modeling"
   ]
  },
  {
   "cell_type": "markdown",
   "metadata": {},
   "source": [
    "In order to fit an ARIMA model, we need to make the time series mean and variance stationary. Looking at figure 1 above, we can conclude that the series is not variance stationary. We will run some tests later on to test the mean stationarity."
   ]
  },
  {
   "cell_type": "markdown",
   "metadata": {},
   "source": [
    "### Making the series variance stationary by applying a log transformation"
   ]
  },
  {
   "cell_type": "code",
   "execution_count": 17,
   "metadata": {},
   "outputs": [
    {
     "ename": "TypeError",
     "evalue": "loop of ufunc does not support argument 0 of type str which has no callable log method",
     "output_type": "error",
     "traceback": [
      "\u001b[0;31m---------------------------------------------------------------------------\u001b[0m",
      "\u001b[0;31mAttributeError\u001b[0m                            Traceback (most recent call last)",
      "\u001b[0;31mAttributeError\u001b[0m: 'str' object has no attribute 'log'",
      "\nThe above exception was the direct cause of the following exception:\n",
      "\u001b[0;31mTypeError\u001b[0m                                 Traceback (most recent call last)",
      "\u001b[0;32m<ipython-input-17-670640922899>\u001b[0m in \u001b[0;36m<module>\u001b[0;34m\u001b[0m\n\u001b[1;32m      1\u001b[0m \u001b[0;31m#applying log transformation\u001b[0m\u001b[0;34m\u001b[0m\u001b[0;34m\u001b[0m\u001b[0;34m\u001b[0m\u001b[0m\n\u001b[0;32m----> 2\u001b[0;31m \u001b[0mln_df\u001b[0m \u001b[0;34m=\u001b[0m \u001b[0mnp\u001b[0m\u001b[0;34m.\u001b[0m\u001b[0mlog\u001b[0m\u001b[0;34m(\u001b[0m\u001b[0mdf\u001b[0m\u001b[0;34m)\u001b[0m\u001b[0;34m\u001b[0m\u001b[0;34m\u001b[0m\u001b[0m\n\u001b[0m",
      "\u001b[0;31mTypeError\u001b[0m: loop of ufunc does not support argument 0 of type str which has no callable log method"
     ]
    }
   ],
   "source": [
    "#applying log transformation\n",
    "ln_df = np.log(df)"
   ]
  },
  {
   "cell_type": "code",
   "execution_count": null,
   "metadata": {},
   "outputs": [],
   "source": [
    "ln_df.head()"
   ]
  },
  {
   "cell_type": "markdown",
   "metadata": {},
   "source": [
    "Here, we are observing infinity as log transformation of 0. Since January and February 2020 were early days for the virus to spread, we can replace 0s with 1 for these 2 months and reapply a log transformation."
   ]
  },
  {
   "cell_type": "code",
   "execution_count": null,
   "metadata": {},
   "outputs": [],
   "source": [
    "df[df['new_cases']==0]=1\n",
    "df.head()"
   ]
  },
  {
   "cell_type": "code",
   "execution_count": null,
   "metadata": {},
   "outputs": [],
   "source": [
    "#reapplying log transformation\n",
    "ln_df = np.log(df)\n",
    "ln_df.head()"
   ]
  },
  {
   "cell_type": "code",
   "execution_count": null,
   "metadata": {},
   "outputs": [],
   "source": [
    "plt.figure(figsize=(15,10))\n",
    "plt.xlabel('Date')\n",
    "plt.ylabel('Log Daily New Cases')\n",
    "plt.title('Fig 5 : Variance Stationarized New Cases in the US')\n",
    "ln_df['new_cases'].plot()\n",
    "plt.show()"
   ]
  },
  {
   "cell_type": "markdown",
   "metadata": {},
   "source": [
    "We can observe that the time series is now variance stationary. However, we need to check whether it is mean stationary."
   ]
  },
  {
   "cell_type": "markdown",
   "metadata": {},
   "source": [
    "### Checking for mean stationarity"
   ]
  },
  {
   "cell_type": "code",
   "execution_count": null,
   "metadata": {},
   "outputs": [],
   "source": [
    "# Augmented Dickey Fuller test\n",
    "from statsmodels.tsa.stattools import adfuller\n",
    "adfuller(ln_df)"
   ]
  },
  {
   "cell_type": "markdown",
   "metadata": {},
   "source": [
    "The p value obtained is 4.45e-06 , which is lower than 0.05. This indicates that the data is mean stationary."
   ]
  },
  {
   "cell_type": "code",
   "execution_count": null,
   "metadata": {},
   "outputs": [],
   "source": [
    "# KPSS test\n",
    "from statsmodels.tsa.stattools import kpss\n",
    "kpss(ln_df)"
   ]
  },
  {
   "cell_type": "markdown",
   "metadata": {},
   "source": [
    "The p value obtained is 0.01 (less than 0.05), which indicates that the data is mean non stationary"
   ]
  },
  {
   "cell_type": "markdown",
   "metadata": {},
   "source": [
    "### Calculating first difference to make the series mean stationary"
   ]
  },
  {
   "cell_type": "code",
   "execution_count": null,
   "metadata": {},
   "outputs": [],
   "source": [
    "df_diff = pd.DataFrame(ln_df['new_cases'] - ln_df['new_cases'].shift(1))\n",
    "df_diff.head()"
   ]
  },
  {
   "cell_type": "code",
   "execution_count": null,
   "metadata": {},
   "outputs": [],
   "source": [
    "#removing missing value\n",
    "df_diff = df_diff.dropna()\n",
    "df_diff.head()"
   ]
  },
  {
   "cell_type": "code",
   "execution_count": null,
   "metadata": {},
   "outputs": [],
   "source": [
    "# Augmented Dickey Fuller test\n",
    "from statsmodels.tsa.stattools import adfuller\n",
    "adfuller(df_diff)"
   ]
  },
  {
   "cell_type": "markdown",
   "metadata": {},
   "source": [
    "The p-value of the ADF test now comes out to be 0.01, which indicates mean stationary data."
   ]
  },
  {
   "cell_type": "code",
   "execution_count": null,
   "metadata": {},
   "outputs": [],
   "source": [
    "# KPSS test\n",
    "from statsmodels.tsa.stattools import kpss\n",
    "kpss(df_diff)"
   ]
  },
  {
   "cell_type": "markdown",
   "metadata": {},
   "source": [
    "The p-value of the KPSS test now comes out to be greater than 0.05, which indicates mean stationary data."
   ]
  },
  {
   "cell_type": "code",
   "execution_count": null,
   "metadata": {},
   "outputs": [],
   "source": [
    "plt.figure(figsize=(15,10))\n",
    "plt.xlabel('Date')\n",
    "plt.ylabel('Log Daily New Cases')\n",
    "plt.title('Fig 6 : Mean & Variance Stationarized New Cases in the US')\n",
    "df_diff['new_cases'].plot()\n",
    "plt.show()"
   ]
  },
  {
   "cell_type": "markdown",
   "metadata": {},
   "source": [
    "As seen in the above plot, the time series now seems to be both mean and variance stationary."
   ]
  },
  {
   "cell_type": "markdown",
   "metadata": {},
   "source": [
    "### Plotting ACF and PACF"
   ]
  },
  {
   "cell_type": "code",
   "execution_count": null,
   "metadata": {},
   "outputs": [],
   "source": [
    "#plotting acf\n",
    "from statsmodels.graphics.tsaplots import plot_acf\n",
    "plot_acf(df_diff)\n",
    "plt.title('Fig 7 : ACF Plot')\n",
    "plt.show()"
   ]
  },
  {
   "cell_type": "markdown",
   "metadata": {},
   "source": [
    "The ACF shows high correlation as well as dampening effect at every 7th lag, which indicates a weekly seasonality. Since we can see 3 time series elements show correlation more than the significance level, it looks like a MA 3 process."
   ]
  },
  {
   "cell_type": "code",
   "execution_count": null,
   "metadata": {},
   "outputs": [],
   "source": [
    "from statsmodels.graphics.tsaplots import plot_pacf\n",
    "plot_pacf(df_diff)\n",
    "plt.title('Fig 8 : PACF Plot')\n",
    "plt.show()"
   ]
  },
  {
   "cell_type": "markdown",
   "metadata": {},
   "source": [
    "Since we can see 2 time series elements show correlation more than the significance level, it looks like a AR 2 process."
   ]
  },
  {
   "cell_type": "markdown",
   "metadata": {},
   "source": [
    "### Plotting ARIMA Models"
   ]
  },
  {
   "cell_type": "code",
   "execution_count": null,
   "metadata": {},
   "outputs": [],
   "source": [
    "# Model 1 (2,1,3)\n",
    "from statsmodels.tsa.arima_model import ARIMA\n",
    "model1 = ARIMA(ln_df['new_cases'], order=(3,1,2))\n",
    "model1_fit = model1.fit(disp=1)\n",
    "print(model1_fit.summary())"
   ]
  },
  {
   "cell_type": "code",
   "execution_count": null,
   "metadata": {},
   "outputs": [],
   "source": [
    "# Model 2 (2,2,3)\n",
    "model2 = ARIMA(ln_df['new_cases'], order=(2,1,0))\n",
    "model2_fit = model2.fit()\n",
    "print(model2_fit.summary())"
   ]
  },
  {
   "cell_type": "code",
   "execution_count": null,
   "metadata": {},
   "outputs": [],
   "source": [
    "# Model 3 (4,1,3)\n",
    "model3 = ARIMA(ln_df['new_cases'], order=(4,1,3))\n",
    "model3_fit = model3.fit()\n",
    "print(model3_fit.summary())"
   ]
  },
  {
   "cell_type": "code",
   "execution_count": null,
   "metadata": {},
   "outputs": [],
   "source": [
    "# Model 4 (3,2,2)\n",
    "model4 = ARIMA(ln_df['new_cases'], order=(3,2,2))\n",
    "model4_fit = model4.fit()\n",
    "print(model4_fit.summary())"
   ]
  },
  {
   "cell_type": "markdown",
   "metadata": {},
   "source": [
    "Based on the 4 ARIMA models fit, Model 3 ARIMA (4,1,3) is the best model according to AIC and BIC both"
   ]
  },
  {
   "cell_type": "markdown",
   "metadata": {},
   "source": [
    "### Fitting an Auto ARIMA Model"
   ]
  },
  {
   "cell_type": "code",
   "execution_count": null,
   "metadata": {},
   "outputs": [],
   "source": [
    "from pmdarima.arima import auto_arima\n",
    "model = auto_arima(ln_df['new_cases'], trace=True, error_action='ignore', suppress_warnings=True)\n",
    "model.fit(ln_df['new_cases'])"
   ]
  },
  {
   "cell_type": "markdown",
   "metadata": {},
   "source": [
    "Auto ARIMA suggests order of (5,2,2) as the best model."
   ]
  },
  {
   "cell_type": "code",
   "execution_count": null,
   "metadata": {},
   "outputs": [],
   "source": [
    "# fitting the best model (5,2,2)\n",
    "model5 = ARIMA(ln_df['new_cases'], order=(5,2,2))\n",
    "model5_fit = model5.fit()\n",
    "print(model5_fit.summary())"
   ]
  },
  {
   "cell_type": "code",
   "execution_count": null,
   "metadata": {},
   "outputs": [],
   "source": [
    "# Plotting the predicted and actual values using best model\n",
    "fig, ax = plt.subplots(figsize = (15,8))\n",
    "ax.set_xlabel('Date')\n",
    "ax.set_ylabel('Number of New Cases (Log Transformed)')\n",
    "model5_fit.plot_predict(5, ax = ax)\n",
    "plt.title('Fig 9 : Actual vs Predicted')\n",
    "plt.show()"
   ]
  },
  {
   "cell_type": "markdown",
   "metadata": {},
   "source": [
    "The plot shows that the predicted and original data seem close to each other. The model looks like a good fit."
   ]
  },
  {
   "cell_type": "markdown",
   "metadata": {},
   "source": [
    "### Residual Analysis"
   ]
  },
  {
   "cell_type": "code",
   "execution_count": null,
   "metadata": {},
   "outputs": [],
   "source": [
    "plt.figure(figsize=(15,10))\n",
    "plt.xlabel('Date')\n",
    "plt.ylabel('Residuals')\n",
    "plt.title('Fig 10 : Residual Plot')\n",
    "residuals = pd.DataFrame(model5_fit.resid)\n",
    "plt.plot(residuals)\n",
    "plt.show()"
   ]
  },
  {
   "cell_type": "markdown",
   "metadata": {},
   "source": [
    "As seen from the above chart, the residuals look like white noise having no autocorrelation"
   ]
  },
  {
   "cell_type": "code",
   "execution_count": null,
   "metadata": {},
   "outputs": [],
   "source": [
    "#examining acf of residuals\n",
    "plot_acf(residuals)\n",
    "plt.title('Fig 11 : ACF of residuals')\n",
    "plt.show()"
   ]
  },
  {
   "cell_type": "code",
   "execution_count": null,
   "metadata": {},
   "outputs": [],
   "source": [
    "#examining pacf of residuals\n",
    "plot_pacf(residuals)\n",
    "plt.title('Fig 11 : PACF of residuals')\n",
    "plt.show()"
   ]
  },
  {
   "cell_type": "markdown",
   "metadata": {},
   "source": [
    "The PACF does not show any significant autocorrelation among the residuals. We can confirm the same by applying a Box Ljung Test."
   ]
  },
  {
   "cell_type": "code",
   "execution_count": null,
   "metadata": {},
   "outputs": [],
   "source": [
    "# applying Box Ljung Test\n",
    "import statsmodels.api as sm\n",
    "ljung = sm.stats.acorr_ljungbox(residuals, lags= 5)\n",
    "p_value = ljung[1][-1] * 10000000000000\n",
    "print('p value obtained is ',p_value)"
   ]
  },
  {
   "cell_type": "markdown",
   "metadata": {},
   "source": [
    "The p value of Box Ljung test is greater than 0.05, which indicates that the residuals are independent."
   ]
  },
  {
   "cell_type": "markdown",
   "metadata": {},
   "source": [
    "### Evaluating in sample performance through RMSE"
   ]
  },
  {
   "cell_type": "code",
   "execution_count": null,
   "metadata": {},
   "outputs": [],
   "source": [
    "# getting predictions and taking inverse of log to get back to original scale\n",
    "predictions = pd.DataFrame(model5_fit.predict())\n",
    "predictions.columns = ['Prediction']\n",
    "predictions['Prediction'] = np.exp(predictions['Prediction'])"
   ]
  },
  {
   "cell_type": "code",
   "execution_count": null,
   "metadata": {},
   "outputs": [],
   "source": [
    "from sklearn.metrics import mean_squared_error\n",
    "from math import sqrt\n",
    "mse = mean_squared_error(df['new_cases'][2:], predictions)\n",
    "rmse = sqrt(mse)\n",
    "print('RMSE: %f' % rmse)"
   ]
  },
  {
   "cell_type": "code",
   "execution_count": null,
   "metadata": {},
   "outputs": [],
   "source": [
    "# generating foreacasts for the next 30 days\n",
    "n=30\n",
    "forecast,err,ci = model5_fit.forecast(steps=n)\n",
    "df_forecast = pd.DataFrame({'forecast':forecast},index=pd.date_range(start='2022/01/20', periods=n))"
   ]
  },
  {
   "cell_type": "code",
   "execution_count": null,
   "metadata": {},
   "outputs": [],
   "source": [
    "#taking inverse of log to get back to original scale\n",
    "df_forecast['forecast'] = np.exp(df_forecast['forecast'])\n",
    "df_forecast.head()"
   ]
  },
  {
   "cell_type": "code",
   "execution_count": null,
   "metadata": {},
   "outputs": [],
   "source": [
    "ax = df.plot(label='observed', figsize=(20, 15))\n",
    "df_forecast.plot(ax=ax,label='Forecast',color='r')\n",
    "ax.fill_between(df_forecast.index,\n",
    "                ci[:,0],\n",
    "                ci[:,1], color='b', alpha=.25)\n",
    "ax.set_xlabel('Date')\n",
    "ax.set_ylabel('New Cases')\n",
    "plt.title('Fig 12 : Forecasting new cases for next 30 days')\n",
    "plt.legend()\n",
    "plt.show()"
   ]
  },
  {
   "cell_type": "markdown",
   "metadata": {},
   "source": [
    "## Facebook Prophet Model"
   ]
  },
  {
   "cell_type": "code",
   "execution_count": null,
   "metadata": {},
   "outputs": [],
   "source": [
    "# initializing Prophet Model\n",
    "from fbprophet import Prophet\n",
    "model = Prophet()"
   ]
  },
  {
   "cell_type": "code",
   "execution_count": null,
   "metadata": {},
   "outputs": [],
   "source": [
    "#creating a new dataframe and renaming the columns of the dataframe\n",
    "dfb = df.reset_index()\n",
    "dfb.columns=['ds','y']\n",
    "model.fit(dfb)"
   ]
  },
  {
   "cell_type": "code",
   "execution_count": null,
   "metadata": {},
   "outputs": [],
   "source": [
    "# Create Future dates\n",
    "future = model.make_future_dataframe(periods=365)\n",
    "\n",
    "# Predict Prices\n",
    "forecast = model.predict(future)\n",
    "forecast[['ds', 'yhat', 'yhat_lower', 'yhat_upper']].tail()"
   ]
  },
  {
   "cell_type": "markdown",
   "metadata": {},
   "source": [
    "The model successfully forecasted the number of new cases for the next 365 days. We can see the forecasted values of the time series for the last 5 days of the forecasted period along with their upper and lower bound."
   ]
  },
  {
   "cell_type": "code",
   "execution_count": null,
   "metadata": {},
   "outputs": [],
   "source": [
    "#visualizing the forecasted values\n",
    "import matplotlib.pyplot as plt\n",
    "model.plot(forecast)\n",
    "plt.title('Fig 13: Visualization of Forecasted values')\n",
    "plt.show()"
   ]
  },
  {
   "cell_type": "markdown",
   "metadata": {},
   "source": [
    "The above plot shows that the model does a good job in forecasting the in sample values of the time series.\n",
    "\n",
    "The model should not take into account a saturating minimum or maximum point since all the values forecasted by the model are reasonable enough."
   ]
  },
  {
   "cell_type": "code",
   "execution_count": null,
   "metadata": {},
   "outputs": [],
   "source": [
    "# visualizing components of the time series\n",
    "model.plot_components(forecast)\n",
    "plt.title('Fig 14: Visualizing components of time series')\n",
    "plt.show()"
   ]
  },
  {
   "cell_type": "markdown",
   "metadata": {},
   "source": [
    "It is quite evident that COVID 19 daily cases follow a weekly seasonality. As we can see in the above chart, there are less number of new cases on weekends as compared to weekdays."
   ]
  },
  {
   "cell_type": "code",
   "execution_count": null,
   "metadata": {},
   "outputs": [],
   "source": [
    "# calculating in sample RMSE\n",
    "yhat = forecast[:-365]['yhat']\n",
    "y = dfb['y']\n",
    "RMSE = np.sqrt((np.power((yhat - y),2)).mean())\n",
    "RMSE"
   ]
  },
  {
   "cell_type": "markdown",
   "metadata": {},
   "source": [
    "### Changepoint Analysis"
   ]
  },
  {
   "cell_type": "code",
   "execution_count": null,
   "metadata": {},
   "outputs": [],
   "source": [
    "#listing the potential changepoints\n",
    "model.changepoints"
   ]
  },
  {
   "cell_type": "code",
   "execution_count": null,
   "metadata": {},
   "outputs": [],
   "source": [
    "#visualizing the potential changepoints\n",
    "figure = model.plot(forecast)\n",
    "for changepoint in model.changepoints:\n",
    "    plt.axvline(changepoint,ls='--', lw=1)\n",
    "    plt.title('Fig 15: Visualizing the potential changepoints')"
   ]
  },
  {
   "cell_type": "code",
   "execution_count": null,
   "metadata": {},
   "outputs": [],
   "source": [
    "# visualizing the rate change of all potential changepoints\n",
    "deltas = model.params['delta'].mean(0)\n",
    "fig = plt.figure(figsize=(10,8))\n",
    "plt.bar(range(len(deltas)),deltas)\n",
    "plt.ylabel('Rate change')\n",
    "plt.xlabel('Potential changepoint')\n",
    "plt.title('Fig 16: Rate Change of Potential Changepoints')\n",
    "plt.show()"
   ]
  },
  {
   "cell_type": "markdown",
   "metadata": {},
   "source": [
    "We can see that the last 5 changepoints have the most significant rate changes, and hence are contributing most to the trend. Apart from these, changepoints 13,14 and 15 are also contributing to the trend."
   ]
  },
  {
   "cell_type": "code",
   "execution_count": null,
   "metadata": {},
   "outputs": [],
   "source": [
    "#visualizing the significant changepoints\n",
    "from fbprophet.plot import add_changepoints_to_plot\n",
    "fig = model.plot(forecast)\n",
    "a = add_changepoints_to_plot(fig.gca(), model, forecast)\n",
    "plt.title('Fig 17: Significant Changepoints')\n",
    "plt.show()"
   ]
  },
  {
   "cell_type": "markdown",
   "metadata": {},
   "source": [
    "As highlighted above, total 8 changepoints are contributing significantly towards the trend of the time series"
   ]
  },
  {
   "cell_type": "code",
   "execution_count": null,
   "metadata": {},
   "outputs": [],
   "source": [
    "#examining performance with 50 changepoints\n",
    "model = Prophet(n_changepoints=50)\n",
    "forecast = model.fit(dfb).predict(future)\n",
    "fig = model.plot(forecast)\n",
    "plt.title('Fig 18: Examining the performance with 50 changepoints')"
   ]
  },
  {
   "cell_type": "code",
   "execution_count": null,
   "metadata": {},
   "outputs": [],
   "source": [
    "# in sample RMSE\n",
    "yhat = forecast[:-365]['yhat']\n",
    "y = dfb['y']\n",
    "RMSE = np.sqrt((np.power((yhat - y),2)).mean())\n",
    "RMSE"
   ]
  },
  {
   "cell_type": "markdown",
   "metadata": {},
   "source": [
    "In sample RMSE of the model with 50 changepoints is higher than the model with 25 changepoints. We would go ahead with 25 changepoints."
   ]
  },
  {
   "cell_type": "markdown",
   "metadata": {},
   "source": [
    "### Seasonality Assessment"
   ]
  },
  {
   "cell_type": "code",
   "execution_count": null,
   "metadata": {},
   "outputs": [],
   "source": [
    "model.plot_components(forecast)\n",
    "plt.title('Fig 19: Seasonality Assessment')\n",
    "plt.show()"
   ]
  },
  {
   "cell_type": "markdown",
   "metadata": {},
   "source": [
    "As concluded above as well, the time series follows a weekly seasonality. We need to examine further to understand whether it is additive seasonality or multiplicative seasonality."
   ]
  },
  {
   "cell_type": "code",
   "execution_count": null,
   "metadata": {},
   "outputs": [],
   "source": [
    "#examining additive seasonality\n",
    "model = Prophet(seasonality_mode='additive')\n",
    "forecast = model.fit(dfb).predict(future)\n",
    "fig = model.plot(forecast)\n",
    "plt.title('Fig 20: Examining additive seasonality')\n",
    "plt.show()"
   ]
  },
  {
   "cell_type": "code",
   "execution_count": null,
   "metadata": {},
   "outputs": [],
   "source": [
    "model.plot_components(forecast)\n",
    "plt.title('Fig 20: Trend vs seasonality')\n",
    "plt.show()"
   ]
  },
  {
   "cell_type": "markdown",
   "metadata": {},
   "source": [
    "From the above decomposition chart, we can observe that the trend is driving the forecasted values more as compared to the seasonality."
   ]
  },
  {
   "cell_type": "code",
   "execution_count": null,
   "metadata": {},
   "outputs": [],
   "source": [
    "# calculating in sample RMSE\n",
    "yhat = forecast[:-365]['yhat']\n",
    "y = dfb['y']\n",
    "RMSE = np.sqrt((np.power((yhat - y),2)).mean())\n",
    "RMSE"
   ]
  },
  {
   "cell_type": "code",
   "execution_count": null,
   "metadata": {},
   "outputs": [],
   "source": [
    "#examining multiplicative seasonality\n",
    "model = Prophet(seasonality_mode='multiplicative')\n",
    "forecast = model.fit(dfb).predict(future)\n",
    "fig = model.plot(forecast)\n",
    "plt.title('Fig 21: Examining multiplicative seasonality')\n",
    "plt.show()"
   ]
  },
  {
   "cell_type": "markdown",
   "metadata": {},
   "source": [
    "We can see that the variance of the values forecasted by mutliplicative seasonality keeps on increasing with time"
   ]
  },
  {
   "cell_type": "code",
   "execution_count": null,
   "metadata": {},
   "outputs": [],
   "source": [
    "model.plot_components(forecast)\n",
    "plt.show()"
   ]
  },
  {
   "cell_type": "code",
   "execution_count": null,
   "metadata": {},
   "outputs": [],
   "source": [
    "# in sample RMSE\n",
    "yhat = forecast[:-365]['yhat']\n",
    "y = dfb['y']\n",
    "RMSE = np.sqrt((np.power((yhat - y),2)).mean())\n",
    "RMSE"
   ]
  },
  {
   "cell_type": "markdown",
   "metadata": {},
   "source": [
    "The in sample RMSE of multiplicative seasonality is slightly lower than the additive seasonality. However, difference in performance is not significant enough to prefer multiplicative seasonality over additive seasonality as the model will become more difficult to interpret. Hence, we would go ahead with additive seasonality."
   ]
  },
  {
   "cell_type": "markdown",
   "metadata": {},
   "source": [
    "### Assessment and inclusion of holidays"
   ]
  },
  {
   "cell_type": "code",
   "execution_count": null,
   "metadata": {},
   "outputs": [],
   "source": [
    "import holidays\n",
    "holidays = pd.DataFrame(holidays.UnitedStates(years=[2020,2021,2022,2023]).items())\n",
    "holidays.columns = ['ds','holiday']"
   ]
  },
  {
   "cell_type": "code",
   "execution_count": null,
   "metadata": {},
   "outputs": [],
   "source": [
    "model = Prophet(holidays=holidays)\n",
    "model.add_country_holidays(country_name='US')\n",
    "model.fit(dfb)"
   ]
  },
  {
   "cell_type": "code",
   "execution_count": null,
   "metadata": {},
   "outputs": [],
   "source": [
    "forecast = model.predict(future)\n",
    "model.plot(forecast)\n",
    "plt.title('Fig 22: Holiday Forecast')\n",
    "plt.show()"
   ]
  },
  {
   "cell_type": "code",
   "execution_count": null,
   "metadata": {},
   "outputs": [],
   "source": [
    "forecast[:-365].tail()"
   ]
  },
  {
   "cell_type": "code",
   "execution_count": null,
   "metadata": {},
   "outputs": [],
   "source": [
    "model.plot_components(forecast)\n",
    "plt.title('Fig 23: Components of Model')\n",
    "plt.show()"
   ]
  },
  {
   "cell_type": "markdown",
   "metadata": {},
   "source": [
    "On observing the holiday component, we can conclude that most of the holidays have a negative impact on the number of new cases. A few holidays (yearly twice) have a positive impact on the number of new cases."
   ]
  },
  {
   "cell_type": "code",
   "execution_count": null,
   "metadata": {},
   "outputs": [],
   "source": [
    "# in sample RMSE\n",
    "yhat = forecast[:-365]['yhat']\n",
    "y = dfb['y']\n",
    "RMSE = np.sqrt((np.power((yhat - y),2)).mean())\n",
    "RMSE"
   ]
  },
  {
   "cell_type": "markdown",
   "metadata": {},
   "source": [
    "The in sample RMSE of the model after including holidays has improved."
   ]
  },
  {
   "cell_type": "markdown",
   "metadata": {},
   "source": [
    "### Cross Validation"
   ]
  },
  {
   "cell_type": "markdown",
   "metadata": {},
   "source": [
    "Prophet includes functionality for time series cross validation to measure forecast error using historical data. This is done by selecting cutoff points in the history, and for each of them fitting the model using data only up to that cutoff point. We can then compare the forecasted values to the actual values."
   ]
  },
  {
   "cell_type": "code",
   "execution_count": null,
   "metadata": {},
   "outputs": [],
   "source": [
    "from fbprophet.diagnostics import cross_validation\n",
    "df_cv = cross_validation(model, initial = '360 days', period='30 days', horizon = '30 days')\n",
    "df_cv.head()"
   ]
  },
  {
   "cell_type": "markdown",
   "metadata": {},
   "source": [
    "The model has fit data for 12 cut off points for an initial training period of 360 days, period of 30 days and horizon of 30 days."
   ]
  },
  {
   "cell_type": "code",
   "execution_count": null,
   "metadata": {},
   "outputs": [],
   "source": [
    "#examining performance metrics of cross validation models\n",
    "from fbprophet.diagnostics import performance_metrics\n",
    "df_p = performance_metrics(df_cv)\n",
    "df_p.head()"
   ]
  },
  {
   "cell_type": "code",
   "execution_count": null,
   "metadata": {},
   "outputs": [],
   "source": [
    "from fbprophet.plot import plot_cross_validation_metric\n",
    "fig = plot_cross_validation_metric(df_cv, metric='rmse')\n",
    "plt.title('Fig 24: RMSE vs Horizon')\n",
    "plt.show()"
   ]
  },
  {
   "cell_type": "markdown",
   "metadata": {},
   "source": [
    "As seen from the above chart, the RMSE of the model increases with increase in horizon which is expected because time series models are better at predicting near point in the future as compared to predicted a point which is far away into the future."
   ]
  },
  {
   "cell_type": "markdown",
   "metadata": {},
   "source": [
    "## ARIMA vs Facebook Prophet"
   ]
  },
  {
   "cell_type": "code",
   "execution_count": null,
   "metadata": {},
   "outputs": [],
   "source": [
    "# splitting time series into train and test\n",
    "train = df[:600]\n",
    "test = df[600:]"
   ]
  },
  {
   "cell_type": "markdown",
   "metadata": {},
   "source": [
    "We have split our data into training and testing dataset with first 600 days in train and the next 129 days in test."
   ]
  },
  {
   "cell_type": "markdown",
   "metadata": {},
   "source": [
    "## Fitting best ARIMA Model"
   ]
  },
  {
   "cell_type": "markdown",
   "metadata": {},
   "source": [
    "The best ARIMA model obtained was ARIMA(5,2,2). We will fit that"
   ]
  },
  {
   "cell_type": "code",
   "execution_count": null,
   "metadata": {},
   "outputs": [],
   "source": [
    "# taking log of train data\n",
    "ln_train = np.log(train)\n",
    "ln_train.head()"
   ]
  },
  {
   "cell_type": "code",
   "execution_count": null,
   "metadata": {},
   "outputs": [],
   "source": [
    "# fitting the best model (5,2,2)\n",
    "arima = ARIMA(ln_train['new_cases'], order=(5,2,2))\n",
    "arima_fit = arima.fit()\n",
    "print(arima_fit.summary())"
   ]
  },
  {
   "cell_type": "code",
   "execution_count": null,
   "metadata": {},
   "outputs": [],
   "source": [
    "# generating foreacasts for the next 129 days\n",
    "n=129\n",
    "forecast,err,ci = arima_fit.forecast(steps=n)\n",
    "arima_forecast = pd.DataFrame({'forecast':forecast},index=pd.date_range(start='2021/09/13', periods=n))"
   ]
  },
  {
   "cell_type": "code",
   "execution_count": null,
   "metadata": {},
   "outputs": [],
   "source": [
    "#taking inverse of log to get back to original scale\n",
    "arima_forecast['forecast'] = np.exp(arima_forecast['forecast'])\n",
    "arima_forecast.head()"
   ]
  },
  {
   "cell_type": "code",
   "execution_count": null,
   "metadata": {},
   "outputs": [],
   "source": [
    "# Calculating RMSE\n",
    "yhat = arima_forecast['forecast']\n",
    "y = test['new_cases']\n",
    "RMSE = np.sqrt((np.power((yhat - y),2)).mean())\n",
    "RMSE"
   ]
  },
  {
   "cell_type": "code",
   "execution_count": null,
   "metadata": {},
   "outputs": [],
   "source": [
    "#calculating MAE\n",
    "MAE = np.abs((yhat - y)).mean()\n",
    "MAE"
   ]
  },
  {
   "cell_type": "code",
   "execution_count": null,
   "metadata": {},
   "outputs": [],
   "source": [
    "#calculating MAPE\n",
    "MAPE = np.abs((yhat - y)/y).mean()\n",
    "MAPE"
   ]
  },
  {
   "cell_type": "markdown",
   "metadata": {},
   "source": [
    "### Fitting best FB Prophet Model"
   ]
  },
  {
   "cell_type": "markdown",
   "metadata": {},
   "source": [
    "The best FB Prophet model obtained was the model with additive weekly seasonality which included holiday impact as well."
   ]
  },
  {
   "cell_type": "code",
   "execution_count": null,
   "metadata": {},
   "outputs": [],
   "source": [
    "fb_train = train.reset_index()\n",
    "fb_train.columns = ['ds','y']"
   ]
  },
  {
   "cell_type": "code",
   "execution_count": null,
   "metadata": {},
   "outputs": [],
   "source": [
    "# fitting the model\n",
    "fb_model = Prophet(holidays=holidays)\n",
    "fb_model.add_country_holidays(country_name='US')\n",
    "fb_model.fit(fb_train)"
   ]
  },
  {
   "cell_type": "code",
   "execution_count": null,
   "metadata": {},
   "outputs": [],
   "source": [
    "# Create Future dates and forecasting\n",
    "future = model.make_future_dataframe(periods=0)\n",
    "\n",
    "# Predict Prices\n",
    "fb_forecast = model.predict(future)\n",
    "fb_forecast[['ds', 'yhat', 'yhat_lower', 'yhat_upper']].tail()"
   ]
  },
  {
   "cell_type": "code",
   "execution_count": null,
   "metadata": {},
   "outputs": [],
   "source": [
    "# Calculating RMSE\n",
    "yhat = fb_forecast['yhat'].values[600:]\n",
    "y = test['new_cases']\n",
    "RMSE = np.sqrt((np.power((yhat - y),2)).mean())\n",
    "RMSE"
   ]
  },
  {
   "cell_type": "code",
   "execution_count": null,
   "metadata": {},
   "outputs": [],
   "source": [
    "#calculating MAE\n",
    "MAE = np.abs((yhat - y)).mean()\n",
    "MAE"
   ]
  },
  {
   "cell_type": "code",
   "execution_count": null,
   "metadata": {},
   "outputs": [],
   "source": [
    "#calculating MAPE\n",
    "MAPE = np.abs((yhat - y)/y).mean()\n",
    "MAPE"
   ]
  },
  {
   "cell_type": "markdown",
   "metadata": {},
   "source": [
    "On comparing FB Prophet and ARIMA models above, both RMSE and MAE for out of sample data are better for FB Prophet whereas MAPE is better for ARIMA model. Considering these stats, we would say that FB Prophet performs better as compared to ARIMA model."
   ]
  }
 ],
 "metadata": {
  "kernelspec": {
   "display_name": "Python 3",
   "language": "python",
   "name": "python3"
  },
  "language_info": {
   "codemirror_mode": {
    "name": "ipython",
    "version": 3
   },
   "file_extension": ".py",
   "mimetype": "text/x-python",
   "name": "python",
   "nbconvert_exporter": "python",
   "pygments_lexer": "ipython3",
   "version": "3.7.6"
  }
 },
 "nbformat": 4,
 "nbformat_minor": 4
}
